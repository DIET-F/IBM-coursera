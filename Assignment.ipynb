# Data Science Final Project
## Introduction
This notebook is a final project for the Data Science course. It demonstrates the use of markdown and code cells to present information and perform calculations.
## Data Science Languages
The following are popular languages used in Data Science:
- Python
- R
- SQL
- Julia
- Java
- Scala
## Data Science Libraries
The following libraries are commonly used in Data Science:
- NumPy
- Pandas
- Matplotlib
- SciPy
- Scikit-learn
- TensorFlow
- Keras
- PyTorch
## Data Science Tools
| Tool          | Description                                |
|---------------|--------------------------------------------|
| Jupyter       | Interactive computing environment         |
| RStudio       | Integrated development environment for R  |
| Apache Spark  | Unified analytics engine for big data     |
| Tableau       | Data visualization software               |
| TensorFlow    | Machine learning framework                |
## Excersize 8
In this section, we will demonstrate basic arithmetic operations such as addition and multiplication.
a = 5
b = 4
addition = a + b
multiplication = a * b
print(f"Addition: {addition}")
print(f"Multiplication: {multiplication}")
##Excersize 9
minutes = 120
hours = minutes / 60
print(f"{minutes} minutes is equal to {hours} hours")
## Author
Luc
## Sharing the Notebook
The notebook has been shared through GitHub and is publicly viewable
